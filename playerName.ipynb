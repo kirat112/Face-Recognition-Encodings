{
 "cells": [
  {
   "cell_type": "code",
   "execution_count": 2,
   "metadata": {},
   "outputs": [
    {
     "name": "stdout",
     "output_type": "stream",
     "text": [
      "Face encodings have been saved as face_encodings.json for future use.\n"
     ]
    }
   ],
   "source": [
    "import pickle\n",
    "import json\n",
    "\n",
    "# Load the player encodings dictionary from the pickle file\n",
    "with open('face_encodings_single_img.pkl', 'rb') as f:\n",
    "    face_encodings = pickle.load(f)\n",
    "\n",
    "# Convert numpy arrays to lists for JSON serialization\n",
    "face_encodings_json = {name: encoding.tolist() for name, encoding in face_encodings.items()}\n",
    "\n",
    "# Save the converted dictionary as a JSON file\n",
    "with open('face_encodings.json', 'w') as json_file:\n",
    "    json.dump(face_encodings_json, json_file)\n",
    "\n",
    "print(\"Face encodings have been saved as face_encodings.json for future use.\")\n"
   ]
  },
  {
   "cell_type": "code",
   "execution_count": null,
   "metadata": {},
   "outputs": [],
   "source": [
    "import pickle\n",
    "import json\n",
    "\n",
    "# Load the player encodings dictionary from the pickle file\n",
    "with open('face_encodings_single_img.pkl', 'rb') as f:\n",
    "    face_encodings = pickle.load(f)\n",
    "\n",
    "# Extract the player names\n",
    "player_names = list(face_encodings.keys())\n",
    "\n",
    "# Save the player names as a JSON file\n",
    "with open('player_names.json', 'w') as json_file:\n",
    "    json.dump(player_names, json_file)\n",
    "\n",
    "print(\"Player names have been saved as player_names.json for future use.\")\n"
   ]
  }
 ],
 "metadata": {
  "kernelspec": {
   "display_name": "my_project_env",
   "language": "python",
   "name": "python3"
  },
  "language_info": {
   "codemirror_mode": {
    "name": "ipython",
    "version": 3
   },
   "file_extension": ".py",
   "mimetype": "text/x-python",
   "name": "python",
   "nbconvert_exporter": "python",
   "pygments_lexer": "ipython3",
   "version": "3.7.12"
  }
 },
 "nbformat": 4,
 "nbformat_minor": 2
}

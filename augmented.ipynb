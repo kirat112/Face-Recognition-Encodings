{
 "cells": [
  {
   "cell_type": "code",
   "execution_count": 1,
   "metadata": {},
   "outputs": [
    {
     "name": "stderr",
     "output_type": "stream",
     "text": [
      "2024-10-20 13:09:26.816841: I tensorflow/core/platform/cpu_feature_guard.cc:193] This TensorFlow binary is optimized with oneAPI Deep Neural Network Library (oneDNN) to use the following CPU instructions in performance-critical operations:  AVX2 AVX512F AVX512_VNNI FMA\n",
      "To enable them in other operations, rebuild TensorFlow with the appropriate compiler flags.\n",
      "2024-10-20 13:09:27.336503: I tensorflow/core/util/port.cc:104] oneDNN custom operations are on. You may see slightly different numerical results due to floating-point round-off errors from different computation orders. To turn them off, set the environment variable `TF_ENABLE_ONEDNN_OPTS=0`.\n",
      "2024-10-20 13:09:27.419767: W tensorflow/compiler/xla/stream_executor/platform/default/dso_loader.cc:64] Could not load dynamic library 'libcudart.so.11.0'; dlerror: libcudart.so.11.0: cannot open shared object file: No such file or directory\n",
      "2024-10-20 13:09:27.419800: I tensorflow/compiler/xla/stream_executor/cuda/cudart_stub.cc:29] Ignore above cudart dlerror if you do not have a GPU set up on your machine.\n",
      "2024-10-20 13:09:30.009519: W tensorflow/compiler/xla/stream_executor/platform/default/dso_loader.cc:64] Could not load dynamic library 'libnvinfer.so.7'; dlerror: libnvinfer.so.7: cannot open shared object file: No such file or directory\n",
      "2024-10-20 13:09:30.009661: W tensorflow/compiler/xla/stream_executor/platform/default/dso_loader.cc:64] Could not load dynamic library 'libnvinfer_plugin.so.7'; dlerror: libnvinfer_plugin.so.7: cannot open shared object file: No such file or directory\n",
      "2024-10-20 13:09:30.009672: W tensorflow/compiler/tf2tensorrt/utils/py_utils.cc:38] TF-TRT Warning: Cannot dlopen some TensorRT libraries. If you would like to use Nvidia GPU with TensorRT, please make sure the missing libraries mentioned above are installed properly.\n"
     ]
    },
    {
     "name": "stdout",
     "output_type": "stream",
     "text": [
      "Augmentation complete!\n"
     ]
    }
   ],
   "source": [
    "from tensorflow.keras.preprocessing.image import ImageDataGenerator\n",
    "import cv2\n",
    "import os\n",
    "\n",
    "# Path to your dataset containing player directories\n",
    "dataset_path = 'dataset'\n",
    "\n",
    "# Create an instance of ImageDataGenerator with augmentations\n",
    "datagen = ImageDataGenerator(\n",
    "    rotation_range=40,             # Rotate images by up to 40 degrees\n",
    "    width_shift_range=0.2,         # Shift the image horizontally by 20% of the width\n",
    "    height_shift_range=0.2,        # Shift the image vertically by 20% of the height\n",
    "    shear_range=0.2,               # Shear the image\n",
    "    zoom_range=0.2,                # Zoom in/out by 20%\n",
    "    horizontal_flip=True,          # Randomly flip images horizontally\n",
    "    brightness_range=[0.8, 1.2],   # Adjust brightness by 80% to 120%\n",
    "    fill_mode='nearest'            # Fill in missing pixels with the nearest values\n",
    ")\n",
    "\n",
    "# Iterate through each player directory in the dataset\n",
    "for player in os.listdir(dataset_path):\n",
    "    player_dir = os.path.join(dataset_path, player)\n",
    "\n",
    "    if os.path.isdir(player_dir):  # Ensure it's a directory\n",
    "        for img_file in os.listdir(player_dir):\n",
    "            img_path = os.path.join(player_dir, img_file)\n",
    "\n",
    "            # Load the image\n",
    "            img = cv2.imread(img_path)\n",
    "\n",
    "            # Resize image if needed (assume 224x224 input size)\n",
    "            img = cv2.resize(img, (224, 224))\n",
    "\n",
    "            # Expand dimensions to match the input shape required by ImageDataGenerator\n",
    "            img = img.reshape((1,) + img.shape)\n",
    "\n",
    "            # Create a new directory for augmented images if it doesn't exist\n",
    "            aug_dir = os.path.join(player_dir, 'augmented')\n",
    "            if not os.path.exists(aug_dir):\n",
    "                os.makedirs(aug_dir)\n",
    "\n",
    "            # Generate and save 10 augmented images per original image\n",
    "            i = 0\n",
    "            for batch in datagen.flow(img, batch_size=1, save_to_dir=aug_dir, save_prefix='aug', save_format='jpg'):\n",
    "                i += 1\n",
    "                if i > 10:  # Generate only 10 augmented images per original image\n",
    "                    break\n",
    "\n",
    "print(\"Augmentation complete!\")\n"
   ]
  }
 ],
 "metadata": {
  "kernelspec": {
   "display_name": "my_project_env",
   "language": "python",
   "name": "python3"
  },
  "language_info": {
   "codemirror_mode": {
    "name": "ipython",
    "version": 3
   },
   "file_extension": ".py",
   "mimetype": "text/x-python",
   "name": "python",
   "nbconvert_exporter": "python",
   "pygments_lexer": "ipython3",
   "version": "3.7.12"
  }
 },
 "nbformat": 4,
 "nbformat_minor": 2
}

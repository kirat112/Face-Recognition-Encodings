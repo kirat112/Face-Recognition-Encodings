{
 "cells": [
  {
   "cell_type": "code",
   "execution_count": null,
   "metadata": {},
   "outputs": [
    {
     "name": "stdout",
     "output_type": "stream",
     "text": [
      "No face found in image: test_dataset/unknown36.jpg\n",
      "No face found in image: test_dataset/unknown39.jpg\n",
      "Precision: 0.59\n",
      "Recall: 0.60\n",
      "F1 Score: 0.53\n"
     ]
    },
    {
     "name": "stderr",
     "output_type": "stream",
     "text": [
      "/home/kiratlinux/miniconda3/envs/my_project_env/lib/python3.7/site-packages/sklearn/metrics/_classification.py:1318: UndefinedMetricWarning: Precision is ill-defined and being set to 0.0 in labels with no predicted samples. Use `zero_division` parameter to control this behavior.\n",
      "  _warn_prf(average, modifier, msg_start, len(result))\n"
     ]
    }
   ],
   "source": [
    "import cv2\n",
    "import face_recognition\n",
    "import pickle\n",
    "import pandas as pd\n",
    "from sklearn.metrics import precision_score, recall_score, f1_score\n",
    "\n",
    "# Load the face encodings from the pickle file\n",
    "with open('face_encodings_single_img_test.pkl', 'rb') as f:\n",
    "    stored_encodings = pickle.load(f)\n",
    "\n",
    "# Function to compare an image with stored encodings and return matched player name or \"Unknown\"\n",
    "def match_face(image_path, stored_encodings, tolerance=0.5):\n",
    "    # Load the image\n",
    "    img = cv2.imread(image_path)\n",
    "    rgb_img = cv2.cvtColor(img, cv2.COLOR_BGR2RGB)\n",
    "    \n",
    "    # Get the face encoding for the image\n",
    "    face_encodings = face_recognition.face_encodings(rgb_img)\n",
    "    \n",
    "    if not face_encodings:\n",
    "        print(f\"No face found in image: {image_path}\")\n",
    "        return \"Unknown\"  # No face found\n",
    "\n",
    "    # Use the first detected face encoding\n",
    "    face_encoding = face_encodings[0]\n",
    "\n",
    "    # Compare against stored encodings\n",
    "    for player_name, stored_encoding in stored_encodings.items():\n",
    "        matches = face_recognition.compare_faces([stored_encoding], face_encoding, tolerance=tolerance)\n",
    "        if matches[0]:\n",
    "            return player_name  # Return matched player name\n",
    "\n",
    "    return \"Unknown\"  # No match found\n",
    "\n",
    "# Load the test labels from CSV file\n",
    "test_labels_df = pd.read_csv('test_labels_full_name.csv')\n",
    "\n",
    "# Initialize lists to store ground truth labels and predictions\n",
    "y_true = test_labels_df['true_label'].tolist()  # Ground truth labels from CSV\n",
    "y_pred = []  # Model predictions\n",
    "\n",
    "# Iterate through the test images and make predictions\n",
    "for index, row in test_labels_df.iterrows():\n",
    "    image_name = row['image_name']\n",
    "    true_label = row['true_label']\n",
    "    image_path = f'test_dataset/{image_name}'  # Path to the test image\n",
    "\n",
    "    # Get the predicted label using match_face function\n",
    "    predicted_label = match_face(image_path, stored_encodings)\n",
    "    y_pred.append(predicted_label)\n",
    "\n",
    "# Calculate precision, recall, and F1 score\n",
    "precision = precision_score(y_true, y_pred, average='weighted')\n",
    "recall = recall_score(y_true, y_pred, average='weighted')\n",
    "f1 = f1_score(y_true, y_pred, average='weighted')\n",
    "\n",
    "# Display results\n",
    "print(f\"Precision: {precision:.2f}\")\n",
    "print(f\"Recall: {recall:.2f}\")\n",
    "print(f\"F1 Score: {f1:.2f}\")\n"
   ]
  }
 ],
 "metadata": {
  "kernelspec": {
   "display_name": "my_project_env",
   "language": "python",
   "name": "python3"
  },
  "language_info": {
   "codemirror_mode": {
    "name": "ipython",
    "version": 3
   },
   "file_extension": ".py",
   "mimetype": "text/x-python",
   "name": "python",
   "nbconvert_exporter": "python",
   "pygments_lexer": "ipython3",
   "version": "3.7.12"
  }
 },
 "nbformat": 4,
 "nbformat_minor": 2
}

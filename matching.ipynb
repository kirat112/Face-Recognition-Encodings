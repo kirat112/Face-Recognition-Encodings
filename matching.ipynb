{
 "cells": [
  {
   "cell_type": "code",
   "execution_count": null,
   "metadata": {},
   "outputs": [
    {
     "name": "stdout",
     "output_type": "stream",
     "text": [
      "Matched Player: rohit_sharma\n"
     ]
    }
   ],
   "source": [
    "import cv2\n",
    "import face_recognition\n",
    "import pickle\n",
    "import numpy as np\n",
    "\n",
    "# Load the face encodings from the pickle file\n",
    "with open('face_encodings_single_img.pkl', 'rb') as f:\n",
    "    stored_encodings = pickle.load(f)\n",
    "\n",
    "# Function to compare the random image with stored encodings\n",
    "def match_face(image_path, stored_encodings, tolerance=0.6):\n",
    "    # Load the random image\n",
    "    img = cv2.imread(image_path)\n",
    "    rgb_img = cv2.cvtColor(img, cv2.COLOR_BGR2RGB)\n",
    "    \n",
    "    # Get the face encoding for the random image\n",
    "    face_encoding = face_recognition.face_encodings(rgb_img)\n",
    "    \n",
    "    if not face_encoding:\n",
    "        print(\"No face found in the image.\")\n",
    "        return None\n",
    "    \n",
    "    face_encoding = face_encoding[0]  # Get the first face encoding\n",
    "    \n",
    "    # Iterate over the stored encodings and compare\n",
    "    for player_name, stored_encoding in stored_encodings.items():\n",
    "        # Compare the encoding with stored encodings\n",
    "        matches = face_recognition.compare_faces([stored_encoding], face_encoding, tolerance=tolerance)\n",
    "        \n",
    "        # If there's a match\n",
    "        if matches[0]:\n",
    "            return player_name  # Return the name of the matched player\n",
    "\n",
    "    return None  # No match found\n",
    "\n",
    "# Path to your random image for testing\n",
    "random_image_path = 'testImages/woak.png'  # Replace with the path to your test image\n",
    "\n",
    "# Call the match_face function\n",
    "matched_player = match_face(random_image_path, stored_encodings)\n",
    "\n",
    "# Save the matched player name to a variable\n",
    "if matched_player:\n",
    "    print(f\"Matched Player: {matched_player}\")\n",
    "else:\n",
    "    print(\"No match found.\")\n",
    "\n",
    "# Save the matched player name to a file for use in the next script\n",
    "with open('matched_player_name.txt', 'w') as file:\n",
    "    if matched_player:\n",
    "        file.write(matched_player)\n",
    "    else:\n",
    "        file.write(\"No match\")\n"
   ]
  },
  {
   "cell_type": "code",
   "execution_count": 9,
   "metadata": {},
   "outputs": [
    {
     "name": "stdout",
     "output_type": "stream",
     "text": [
      "Column names in the CSV file: Index(['Unnamed: 0', 'Player', 'Span', 'Mat', 'Inns', 'NO', 'Runs', 'HS',\n",
      "       'Ave', 'BF', 'SR', '100', '50', '0', 'Unnamed: 13'],\n",
      "      dtype='object')\n"
     ]
    }
   ],
   "source": [
    "import pandas as pd\n",
    "\n",
    "# Load the matched player name\n",
    "with open('matched_player_name.txt', 'r') as file:\n",
    "    matched_player_name = file.read().strip()\n",
    "\n",
    "# Load the player data CSV file\n",
    "player_data = pd.read_csv('Statistics/Batting/ODI_data.csv')  # Replace with the actual path to your CSV file\n",
    "\n",
    "# Display the column names to verify the correct one for player names\n",
    "print(\"Column names in the CSV file:\", player_data.columns)"
   ]
  },
  {
   "cell_type": "code",
   "execution_count": 10,
   "metadata": {},
   "outputs": [
    {
     "name": "stdout",
     "output_type": "stream",
     "text": [
      "Matched Player Statistics:\n",
      "{'Unnamed: 0': 6, 'Player': 'virat_kohli', 'Span': '2008-2019', 'Mat': 242, 'Inns': '233', 'NO': '39', 'Runs': '11609', 'HS': '183', 'Ave': '59.84', 'BF': '12445', 'SR': '93.28', '100': '43', '50': '55', '0': '13', 'Unnamed: 13': nan}\n"
     ]
    }
   ],
   "source": [
    "import pandas as pd\n",
    "\n",
    "# Load the matched player name\n",
    "with open('matched_player_name.txt', 'r') as file:\n",
    "    matched_player_name = file.read().strip()\n",
    "\n",
    "# Load the player data CSV file\n",
    "player_data = pd.read_csv('Statistics/Batting/ODI_data.csv')  # Replace with the actual path to your CSV file\n",
    "\n",
    "# Check if there's a matched player name\n",
    "if matched_player_name == \"No match\":\n",
    "    print(\"No player matched.\")\n",
    "else:\n",
    "    # Retrieve the matched player's statistics from the CSV\n",
    "    player_info = player_data[player_data['Player'] == matched_player_name]\n",
    "    \n",
    "    if not player_info.empty:\n",
    "        print(\"Matched Player Statistics:\")\n",
    "        print(player_info.to_dict(orient='records')[0])  # Display the player's data as a dictionary\n",
    "    else:\n",
    "        print(f\"No data found for player: {matched_player_name}\")\n"
   ]
  }
 ],
 "metadata": {
  "kernelspec": {
   "display_name": "my_project_env",
   "language": "python",
   "name": "python3"
  },
  "language_info": {
   "codemirror_mode": {
    "name": "ipython",
    "version": 3
   },
   "file_extension": ".py",
   "mimetype": "text/x-python",
   "name": "python",
   "nbconvert_exporter": "python",
   "pygments_lexer": "ipython3",
   "version": "3.7.12"
  }
 },
 "nbformat": 4,
 "nbformat_minor": 2
}

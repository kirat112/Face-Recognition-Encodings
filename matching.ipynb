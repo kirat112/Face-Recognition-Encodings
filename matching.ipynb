{
 "cells": [
  {
   "cell_type": "code",
   "execution_count": 29,
   "metadata": {},
   "outputs": [
    {
     "name": "stdout",
     "output_type": "stream",
     "text": [
      "Matched Player: travis_head\n"
     ]
    }
   ],
   "source": [
    "import cv2\n",
    "import face_recognition\n",
    "import pickle\n",
    "import numpy as np\n",
    "\n",
    "# Load the face encodings from the pickle file\n",
    "with open('face_encodings_single_img.pkl', 'rb') as f:\n",
    "    stored_encodings = pickle.load(f)\n",
    "\n",
    "# Function to compare the random image with stored encodings\n",
    "def match_face(image_path, stored_encodings, tolerance=0.6):\n",
    "    # Load the random image\n",
    "    img = cv2.imread(image_path)\n",
    "    rgb_img = cv2.cvtColor(img, cv2.COLOR_BGR2RGB)\n",
    "    \n",
    "    # Get the face encoding for the random image\n",
    "    face_encoding = face_recognition.face_encodings(rgb_img)\n",
    "    \n",
    "    if not face_encoding:\n",
    "        print(\"No face found in the image.\")\n",
    "        return None\n",
    "    \n",
    "    face_encoding = face_encoding[0]  # Get the first face encoding\n",
    "    \n",
    "    # Iterate over the stored encodings and compare\n",
    "    for player_name, stored_encoding in stored_encodings.items():\n",
    "        # Compare the encoding with stored encodings\n",
    "        matches = face_recognition.compare_faces([stored_encoding], face_encoding, tolerance=tolerance)\n",
    "        \n",
    "        # If there's a match\n",
    "        if matches[0]:\n",
    "            return player_name  # Return the name of the matched player\n",
    "\n",
    "    return None  # No match found\n",
    "\n",
    "# Path to your random image for testing\n",
    "random_image_path = 'th.jpg'  # Replace with the path to your test image\n",
    "\n",
    "# Call the match_face function\n",
    "matched_player = match_face(random_image_path, stored_encodings)\n",
    "\n",
    "if matched_player:\n",
    "    print(f\"Matched Player: {matched_player}\")\n",
    "else:\n",
    "    print(\"No match found.\")\n"
   ]
  }
 ],
 "metadata": {
  "kernelspec": {
   "display_name": "my_project_env",
   "language": "python",
   "name": "python3"
  },
  "language_info": {
   "codemirror_mode": {
    "name": "ipython",
    "version": 3
   },
   "file_extension": ".py",
   "mimetype": "text/x-python",
   "name": "python",
   "nbconvert_exporter": "python",
   "pygments_lexer": "ipython3",
   "version": "3.7.12"
  }
 },
 "nbformat": 4,
 "nbformat_minor": 2
}

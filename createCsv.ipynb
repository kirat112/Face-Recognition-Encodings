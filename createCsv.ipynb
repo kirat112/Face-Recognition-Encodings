{
 "cells": [
  {
   "cell_type": "code",
   "execution_count": null,
   "metadata": {},
   "outputs": [
    {
     "name": "stdout",
     "output_type": "stream",
     "text": [
      "CSV file created successfully.\n"
     ]
    }
   ],
   "source": [
    "import os\n",
    "import csv\n",
    "import re\n",
    "\n",
    "# Define your directory path\n",
    "directory = 'test_dataset'\n",
    "\n",
    "# Create the CSV file\n",
    "with open('test_labels_full_name.csv', 'w', newline='') as file:\n",
    "    writer = csv.writer(file)\n",
    "    writer.writerow(['image_name', 'true_label'])  # Header row\n",
    "\n",
    "    for filename in os.listdir(directory):\n",
    "        # Remove the file extension\n",
    "        name_without_ext = os.path.splitext(filename)[0]\n",
    "        \n",
    "        # Check if the filename starts with \"unknown\"\n",
    "        if name_without_ext.startswith(\"unknown\"):\n",
    "            label = \"Unknown\"\n",
    "        else:\n",
    "            # Trim the last number if it exists\n",
    "            label = re.sub(r'\\d+$', '', name_without_ext)\n",
    "        \n",
    "        writer.writerow([filename, label])\n",
    "\n",
    "print(\"CSV file created successfully.\")\n"
   ]
  }
 ],
 "metadata": {
  "kernelspec": {
   "display_name": "my_project_env",
   "language": "python",
   "name": "python3"
  },
  "language_info": {
   "codemirror_mode": {
    "name": "ipython",
    "version": 3
   },
   "file_extension": ".py",
   "mimetype": "text/x-python",
   "name": "python",
   "nbconvert_exporter": "python",
   "pygments_lexer": "ipython3",
   "version": "3.7.12"
  }
 },
 "nbformat": 4,
 "nbformat_minor": 2
}
